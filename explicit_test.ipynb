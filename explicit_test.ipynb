{
 "cells": [
  {
   "cell_type": "code",
   "execution_count": null,
   "metadata": {},
   "outputs": [],
   "source": [
    "import torch\n",
    "import numpy as np\n",
    "import openmm\n",
    "import openmm.app as app\n",
    "import openmm.unit as u\n",
    "import bisect\n",
    "from rdkit.Chem import TorsionFingerprints\n",
    "import rdkit.Chem as Chem\n",
    "import rdkit.Chem.AllChem as AllChem\n",
    "from rdkit.Geometry import Point3D\n",
    "\n",
    "import sys\n",
    "sys.path.append(\"main\")\n",
    "import pickle\n",
    "import main.utils"
   ]
  },
  {
   "cell_type": "code",
   "execution_count": 3,
   "metadata": {},
   "outputs": [],
   "source": [
    "def np_to_mm(arr: np.ndarray, unit: openmm.unit=u.angstrom):\n",
    "    wrapped_val = openmm.unit.quantity.Quantity(arr, unit)\n",
    "    return wrapped_val"
   ]
  },
  {
   "cell_type": "code",
   "execution_count": 4,
   "metadata": {},
   "outputs": [
    {
     "name": "stderr",
     "output_type": "stream",
     "text": [
      "Warning: importing 'simtk.openmm' is deprecated.  Import 'openmm' instead.\n",
      "/home/yppatel/anaconda3/envs/myenv/lib/python3.8/site-packages/parmed/charmm/parameters.py:880: UserWarning: WARNING: Ignoring \"DELETE ACCE NE2\" because entity type ACCE not used.\n",
      "  warnings.warn('WARNING: Ignoring \"%s\" because entity type %s not '\n"
     ]
    },
    {
     "name": "stdout",
     "output_type": "stream",
     "text": [
      "Loading CHARMM files...\n"
     ]
    }
   ],
   "source": [
    "import sys\n",
    "\n",
    "# OpenMM Imports\n",
    "import simtk.openmm as mm\n",
    "import simtk.openmm.app as app\n",
    "\n",
    "# ParmEd Imports\n",
    "from parmed.charmm import CharmmPsfFile, CharmmCrdFile, CharmmParameterSet\n",
    "from parmed.openmm import StateDataReporter\n",
    "from parmed import unit as u\n",
    "\n",
    "# Load the CHARMM files\n",
    "print('Loading CHARMM files...')\n",
    "toppar = [\n",
    "    \"toppar/par_all36_prot.prm\", \n",
    "    \"toppar/top_all36_prot.rtf\",\n",
    "    \"toppar/toppar_water_ions.str\",\n",
    "]\n",
    "\n",
    "params = CharmmParameterSet(*toppar)\n",
    "ala5_gas = CharmmPsfFile('1uao_8_autopsf.psf')\n",
    "\n",
    "system = ala5_gas.createSystem(params, nonbondedMethod=app.NoCutoff,\n",
    "                               constraints=app.HBonds, implicitSolvent=app.HCT,\n",
    "                               implicitSolventSaltConc=0.1 * u.moles/u.liter\n",
    ")\n",
    "\n",
    "# Create the integrator to do Langevin dynamics\n",
    "integrator = mm.LangevinIntegrator(\n",
    "                        300 * u.kelvin,       # Temperature of heat bath\n",
    "                        1.0 / u.picoseconds,  # Friction coefficient\n",
    "                        2.0 * u.femtoseconds, # Time step\n",
    ")\n",
    "\n",
    "# Define the platform to use; CUDA, OpenCL, CPU, or Reference. Or do not specify\n",
    "# the platform to use the default (fastest) platform\n",
    "platform = mm.Platform.getPlatformByName('CUDA')\n",
    "prop = dict(CudaPrecision='mixed') # Use mixed single/double precision\n",
    "\n",
    "# Create the Simulation object\n",
    "sim = app.Simulation(ala5_gas.topology, system, integrator, platform, prop)"
   ]
  },
  {
   "cell_type": "code",
   "execution_count": 5,
   "metadata": {},
   "outputs": [
    {
     "name": "stdout",
     "output_type": "stream",
     "text": [
      "before: 32.464435790823984 kcal/mol\n",
      "after: -237.72226764762001 kcal/mol\n"
     ]
    }
   ],
   "source": [
    "ala5_crds = app.PDBFile('1uao_12_autopsf.pdb')\n",
    "\n",
    "sim.context.setPositions(ala5_crds.positions)\n",
    "energy = sim.context.getState(getEnergy=True).getPotentialEnergy().in_units_of(u.kilocalories_per_mole)    \n",
    "print(f\"before: {energy}\")\n",
    "sim.minimizeEnergy(maxIterations=2000)\n",
    "energy = sim.context.getState(getEnergy=True).getPotentialEnergy().in_units_of(u.kilocalories_per_mole)    \n",
    "print(f\"after: {energy}\")"
   ]
  },
  {
   "cell_type": "code",
   "execution_count": 6,
   "metadata": {},
   "outputs": [
    {
     "name": "stderr",
     "output_type": "stream",
     "text": [
      "[22:00:43] Molecule does not have explicit Hs. Consider calling AddHs()\n"
     ]
    }
   ],
   "source": [
    "pdb = \"/home/yppatel/misc/clean_idp_rl/disordered_mol_untrained/mol0.pdb\"\n",
    "mol = Chem.rdmolfiles.MolFromPDBFile(pdb, removeHs=False)\n",
    "AllChem.EmbedMultipleConfs(mol, numConfs=1000, numThreads=-1)"
   ]
  },
  {
   "cell_type": "code",
   "execution_count": null,
   "metadata": {},
   "outputs": [],
   "source": [
    "from rdkit.Geometry import Point3D"
   ]
  },
  {
   "cell_type": "code",
   "execution_count": null,
   "metadata": {},
   "outputs": [],
   "source": [
    "energies = []\n",
    "for i in range(mol.GetNumConformers()):\n",
    "    pos_a = np_to_mm(mol.GetConformer(i).GetPositions())\n",
    "    sim.context.setPositions(pos_a)\n",
    "    try:\n",
    "        sim.minimizeEnergy(maxIterations=1000)\n",
    "    except:\n",
    "        energies.append(float(\"inf\"))\n",
    "        continue\n",
    "\n",
    "    optimized_positions_nm = sim.context.getState(getPositions=True).getPositions()\n",
    "    optimized_positions = optimized_positions_nm.in_units_of(u.angstrom) # match RDKit/MMFF convention\n",
    "\n",
    "    conf = mol.GetConformer(i)\n",
    "    for j, pos in enumerate(optimized_positions):\n",
    "        conf.SetAtomPosition(j, Point3D(pos.x, pos.y, pos.z))\n",
    "\n",
    "    energy = sim.context.getState(getEnergy=True).getPotentialEnergy().in_units_of(u.kilocalories_per_mole)\n",
    "    energies.append(energy)"
   ]
  },
  {
   "cell_type": "code",
   "execution_count": 17,
   "metadata": {},
   "outputs": [],
   "source": [
    "clean_energies = [energy._value if not isinstance(energy, float) else energy for energy in energies]"
   ]
  },
  {
   "cell_type": "code",
   "execution_count": 18,
   "metadata": {},
   "outputs": [],
   "source": [
    "sort = np.argsort(clean_energies)  # sort by increasing energy\n",
    "\n",
    "new = Chem.Mol(mol)\n",
    "new.RemoveAllConformers()\n",
    "\n",
    "for i in sort:\n",
    "    conf = mol.GetConformer(int(i))\n",
    "    new.AddConformer(conf, assignId=True)"
   ]
  },
  {
   "cell_type": "code",
   "execution_count": 21,
   "metadata": {},
   "outputs": [
    {
     "data": {
      "text/plain": [
       "Quantity(value=-235.45845195530066, unit=kilocalorie/mole)"
      ]
     },
     "execution_count": 21,
     "metadata": {},
     "output_type": "execute_result"
    }
   ],
   "source": [
    "pos_a = np_to_mm(new.GetConformer(4).GetPositions())\n",
    "sim.context.setPositions(pos_a)\n",
    "sim.minimizeEnergy(maxIterations=1000)\n",
    "sim.context.getState(getEnergy=True).getPotentialEnergy().in_units_of(u.kilocalories_per_mole)"
   ]
  },
  {
   "cell_type": "code",
   "execution_count": null,
   "metadata": {},
   "outputs": [],
   "source": [
    "Chem.rdmolfiles.MolToPDBFile(new, \"new.pdb\")"
   ]
  }
 ],
 "metadata": {
  "kernelspec": {
   "display_name": "Python 3.8.13 ('myenv')",
   "language": "python",
   "name": "python3"
  },
  "language_info": {
   "codemirror_mode": {
    "name": "ipython",
    "version": 3
   },
   "file_extension": ".py",
   "mimetype": "text/x-python",
   "name": "python",
   "nbconvert_exporter": "python",
   "pygments_lexer": "ipython3",
   "version": "3.8.13"
  },
  "orig_nbformat": 4,
  "vscode": {
   "interpreter": {
    "hash": "3b52329284bbe5c33be71a85e74fd7d09ee2cb6433042a6fedbaa24048c41d61"
   }
  }
 },
 "nbformat": 4,
 "nbformat_minor": 2
}
