{
 "cells": [
  {
   "cell_type": "code",
   "execution_count": 25,
   "metadata": {},
   "outputs": [],
   "source": [
    "# imports\n",
    "import sys\n",
    "import openmm\n",
    "import openmm.app as app\n",
    "import openmm.unit as unit\n",
    "\n",
    "import numpy as np\n",
    "import mdtraj"
   ]
  },
  {
   "cell_type": "code",
   "execution_count": 26,
   "metadata": {},
   "outputs": [],
   "source": [
    "# load files\n",
    "psf = app.CharmmPsfFile('init.psf')\n",
    "pdbfile = app.PDBFile('init.pdb')\n",
    "params = app.CharmmParameterSet('toppar/top_all36_prot.rtf', 'toppar/par_all36m_prot.prm', 'toppar/toppar_water_ions.str')\n",
    "positions = pdbfile.getPositions(asNumpy=True)"
   ]
  },
  {
   "cell_type": "code",
   "execution_count": 27,
   "metadata": {},
   "outputs": [
    {
     "name": "stdout",
     "output_type": "stream",
     "text": [
      "Adding particles...\n",
      "Adding constraints...\n",
      "Adding lonepairs...\n",
      "Adding bonds...\n",
      "Adding angles...\n",
      "    Number of bond constraints: 3685\n",
      "    Number of angle constraints: 1812\n",
      "Adding Urey-Bradley terms\n",
      "Adding torsions...\n",
      "Adding impropers...\n",
      "Adding CMAP coupled torsions...\n",
      "Adding nonbonded interactions...\n",
      "Build exclusion list...\n",
      "    Number of 1-2 pairs: 3765\n",
      "    Number of 1-3 pairs: 2061\n",
      "    Number of 1-4 pairs: 353\n"
     ]
    },
    {
     "data": {
      "text/plain": [
       "8"
      ]
     },
     "execution_count": 27,
     "metadata": {},
     "output_type": "execute_result"
    }
   ],
   "source": [
    "# system\n",
    "psf.setBox(39.0*unit.angstroms, 39.0*unit.angstroms, 39.0*unit.angstroms)\n",
    "\n",
    "system = psf.createSystem(params,\n",
    "    nonbondedMethod=app.PME, \n",
    "    nonbondedCutoff=1.2*unit.nanometers,\n",
    "    implicitSolvent=None,\n",
    "    constraints=app.HBonds,\n",
    "    rigidWater=True, \n",
    "    verbose=True, \n",
    "    ewaldErrorTolerance=0.0005)\n",
    "\n",
    "barostat = openmm.MonteCarloBarostat(1.0*unit.bar, 300.0*unit.kelvin)\n",
    "system.addForce(barostat)"
   ]
  },
  {
   "cell_type": "code",
   "execution_count": 28,
   "metadata": {},
   "outputs": [],
   "source": [
    "# integrator\n",
    "integrator = openmm.LangevinIntegrator(300.0*unit.kelvin,   # Temperature of head bath\n",
    "                                       1.0/unit.picosecond, # Friction coefficient\n",
    "                                       0.002*unit.picoseconds) # Time step"
   ]
  },
  {
   "cell_type": "code",
   "execution_count": 29,
   "metadata": {},
   "outputs": [],
   "source": [
    "# platform\n",
    "# platform = openmm.Platform.getPlatformByName('CPU')\n",
    "platform = openmm.Platform.getPlatformByName('CUDA')\n",
    "# prop = dict(CudaPrecision='mixed')"
   ]
  },
  {
   "cell_type": "code",
   "execution_count": 30,
   "metadata": {},
   "outputs": [],
   "source": [
    "# Build simulation context\n",
    "simulation = app.Simulation(psf.topology, system, integrator, platform)\n",
    "#simulation = app.Simulation(psf.topology, system, integrator, platform, prop)\n",
    "simulation.context.setPositions(positions)"
   ]
  },
  {
   "cell_type": "code",
   "execution_count": 31,
   "metadata": {},
   "outputs": [
    {
     "name": "stdout",
     "output_type": "stream",
     "text": [
      "\n",
      "initial system energy\n",
      "-21573.471534575205 kcal/mol\n"
     ]
    }
   ],
   "source": [
    "# initial system energy\n",
    "print(\"\\ninitial system energy\")\n",
    "print(simulation.context.getState(getEnergy=True).getPotentialEnergy().in_units_of(unit.kilocalories_per_mole))"
   ]
  },
  {
   "cell_type": "code",
   "execution_count": 32,
   "metadata": {},
   "outputs": [
    {
     "name": "stdout",
     "output_type": "stream",
     "text": [
      "\n",
      "after minimization\n",
      "-22230.020291745375 kcal/mol\n"
     ]
    }
   ],
   "source": [
    "simulation.minimizeEnergy(maxIterations=1000)\n",
    "print(\"\\nafter minimization\")\n",
    "print(simulation.context.getState(getEnergy=True).getPotentialEnergy().in_units_of(unit.kilocalories_per_mole))"
   ]
  },
  {
   "cell_type": "code",
   "execution_count": 33,
   "metadata": {},
   "outputs": [],
   "source": [
    "def np_to_mm(arr: np.ndarray, unit: openmm.unit=unit.angstrom):\n",
    "    wrapped_val = openmm.unit.quantity.Quantity(arr, unit)\n",
    "    return wrapped_val"
   ]
  },
  {
   "cell_type": "code",
   "execution_count": 35,
   "metadata": {},
   "outputs": [],
   "source": [
    "nmr_pdbfile = app.PDBFile('1uao_nmr.pdb')\n",
    "nmr_positions = nmr_pdbfile.getPositions(asNumpy=True)\n",
    "\n",
    "positions_nm = simulation.context.getState(getPositions=True).getPositions()\n",
    "positions_nm[:len(nmr_positions)] = nmr_positions\n",
    "simulation.context.setPositions(positions_nm)"
   ]
  },
  {
   "cell_type": "code",
   "execution_count": 36,
   "metadata": {},
   "outputs": [
    {
     "name": "stdout",
     "output_type": "stream",
     "text": [
      "\n",
      "initial system energy\n",
      "8048243550.841324 kcal/mol\n"
     ]
    }
   ],
   "source": [
    "# initial system energy\n",
    "print(\"\\ninitial system energy\")\n",
    "print(simulation.context.getState(getEnergy=True).getPotentialEnergy().in_units_of(unit.kilocalories_per_mole))"
   ]
  },
  {
   "cell_type": "code",
   "execution_count": 37,
   "metadata": {},
   "outputs": [
    {
     "name": "stdout",
     "output_type": "stream",
     "text": [
      "\n",
      "after minimization\n",
      "-22289.891228647863 kcal/mol\n"
     ]
    }
   ],
   "source": [
    "simulation.minimizeEnergy(maxIterations=1000)\n",
    "print(\"\\nafter minimization\")\n",
    "print(simulation.context.getState(getEnergy=True).getPotentialEnergy().in_units_of(unit.kilocalories_per_mole))"
   ]
  }
 ],
 "metadata": {
  "kernelspec": {
   "display_name": "Python 3.8.13 ('myenv')",
   "language": "python",
   "name": "python3"
  },
  "language_info": {
   "codemirror_mode": {
    "name": "ipython",
    "version": 3
   },
   "file_extension": ".py",
   "mimetype": "text/x-python",
   "name": "python",
   "nbconvert_exporter": "python",
   "pygments_lexer": "ipython3",
   "version": "3.8.13"
  },
  "vscode": {
   "interpreter": {
    "hash": "3b52329284bbe5c33be71a85e74fd7d09ee2cb6433042a6fedbaa24048c41d61"
   }
  }
 },
 "nbformat": 4,
 "nbformat_minor": 4
}
