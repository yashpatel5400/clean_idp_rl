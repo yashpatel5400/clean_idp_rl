{
 "cells": [
  {
   "cell_type": "code",
   "execution_count": 1,
   "metadata": {},
   "outputs": [],
   "source": [
    "# imports\n",
    "import sys\n",
    "import openmm\n",
    "import openmm.app as app\n",
    "import openmm.unit as unit\n",
    "\n",
    "import numpy as np\n",
    "import mdtraj\n",
    "\n",
    "import rdkit.Chem as Chem\n",
    "import rdkit.Chem.AllChem as AllChem\n",
    "from rdkit.Geometry import Point3D"
   ]
  },
  {
   "cell_type": "code",
   "execution_count": 2,
   "metadata": {},
   "outputs": [],
   "source": [
    "# load files\n",
    "psf = app.CharmmPsfFile('init.psf')\n",
    "pdbfile = app.PDBFile('init.pdb')\n",
    "params = app.CharmmParameterSet('toppar/top_all36_prot.rtf', 'toppar/par_all36m_prot.prm', 'toppar/toppar_water_ions.str')\n",
    "positions = pdbfile.getPositions(asNumpy=True)"
   ]
  },
  {
   "cell_type": "code",
   "execution_count": 3,
   "metadata": {},
   "outputs": [
    {
     "name": "stdout",
     "output_type": "stream",
     "text": [
      "Adding particles...\n",
      "Adding constraints...\n",
      "Adding lonepairs...\n",
      "Adding bonds...\n",
      "Adding angles...\n",
      "    Number of bond constraints: 3685\n",
      "    Number of angle constraints: 1812\n",
      "Adding Urey-Bradley terms\n",
      "Adding torsions...\n",
      "Adding impropers...\n",
      "Adding CMAP coupled torsions...\n",
      "Adding nonbonded interactions...\n",
      "Build exclusion list...\n",
      "    Number of 1-2 pairs: 3765\n",
      "    Number of 1-3 pairs: 2061\n",
      "    Number of 1-4 pairs: 353\n"
     ]
    },
    {
     "data": {
      "text/plain": [
       "8"
      ]
     },
     "execution_count": 3,
     "metadata": {},
     "output_type": "execute_result"
    }
   ],
   "source": [
    "# system\n",
    "psf.setBox(39.0*unit.angstroms, 39.0*unit.angstroms, 39.0*unit.angstroms)\n",
    "\n",
    "system = psf.createSystem(params,\n",
    "    nonbondedMethod=app.PME, \n",
    "    nonbondedCutoff=1.2*unit.nanometers,\n",
    "    implicitSolvent=None,\n",
    "    constraints=app.HBonds,\n",
    "    rigidWater=True, \n",
    "    verbose=True, \n",
    "    ewaldErrorTolerance=0.0005)\n",
    "\n",
    "barostat = openmm.MonteCarloBarostat(1.0*unit.bar, 300.0*unit.kelvin)\n",
    "system.addForce(barostat)"
   ]
  },
  {
   "cell_type": "code",
   "execution_count": 4,
   "metadata": {},
   "outputs": [],
   "source": [
    "# integrator\n",
    "integrator = openmm.LangevinIntegrator(300.0*unit.kelvin,   # Temperature of head bath\n",
    "                                       1.0/unit.picosecond, # Friction coefficient\n",
    "                                       0.002*unit.picoseconds) # Time step"
   ]
  },
  {
   "cell_type": "code",
   "execution_count": 5,
   "metadata": {},
   "outputs": [],
   "source": [
    "platform = openmm.Platform.getPlatformByName('CUDA')\n",
    "simulation = app.Simulation(psf.topology, system, integrator, platform)\n",
    "simulation.context.setPositions(positions)"
   ]
  },
  {
   "cell_type": "code",
   "execution_count": 6,
   "metadata": {},
   "outputs": [],
   "source": [
    "def print_energy_and_optimize():\n",
    "    # initial system energy\n",
    "    print(\"\\ninitial system energy\")\n",
    "    print(simulation.context.getState(getEnergy=True).getPotentialEnergy().in_units_of(unit.kilocalories_per_mole))\n",
    "    simulation.minimizeEnergy(maxIterations=1000)\n",
    "    print(\"\\nafter minimization\")\n",
    "    print(simulation.context.getState(getEnergy=True).getPotentialEnergy().in_units_of(unit.kilocalories_per_mole))"
   ]
  },
  {
   "cell_type": "code",
   "execution_count": 8,
   "metadata": {},
   "outputs": [
    {
     "name": "stdout",
     "output_type": "stream",
     "text": [
      "\n",
      "initial system energy\n",
      "-22231.827772624918 kcal/mol\n",
      "\n",
      "after minimization\n",
      "-22231.932337634476 kcal/mol\n"
     ]
    }
   ],
   "source": [
    "print_energy_and_optimize()"
   ]
  },
  {
   "cell_type": "code",
   "execution_count": 9,
   "metadata": {},
   "outputs": [],
   "source": [
    "def np_to_mm(arr: np.ndarray, unit: openmm.unit=unit.angstrom):\n",
    "    wrapped_val = openmm.unit.quantity.Quantity(arr, unit)\n",
    "    return wrapped_val"
   ]
  },
  {
   "cell_type": "code",
   "execution_count": 10,
   "metadata": {},
   "outputs": [],
   "source": [
    "nmr_pdbfile = app.PDBFile('1uao_nmr.pdb')\n",
    "nmr_positions = nmr_pdbfile.getPositions(asNumpy=True)"
   ]
  },
  {
   "cell_type": "code",
   "execution_count": 11,
   "metadata": {},
   "outputs": [],
   "source": [
    "positions_nm = simulation.context.getState(getPositions=True).getPositions()"
   ]
  },
  {
   "cell_type": "code",
   "execution_count": 12,
   "metadata": {},
   "outputs": [
    {
     "data": {
      "text/plain": [
       "Quantity(value=[Vec3(x=1.236855149269104, y=1.838982105255127, z=1.6340179443359375), Vec3(x=1.313283920288086, y=1.807863473892212, z=1.5707173347473145), Vec3(x=1.1526904106140137, y=1.8491748571395874, z=1.5737768411636353), Vec3(x=1.2183609008789062, y=1.765228033065796, z=1.7049777507781982), Vec3(x=1.2664939165115356, y=1.9700137376785278, z=1.7004144191741943)], unit=nanometer)"
      ]
     },
     "execution_count": 12,
     "metadata": {},
     "output_type": "execute_result"
    }
   ],
   "source": [
    "positions_nm[:5]"
   ]
  },
  {
   "cell_type": "code",
   "execution_count": 13,
   "metadata": {},
   "outputs": [],
   "source": [
    "delta = (positions_nm[0] - nmr_positions[0])"
   ]
  },
  {
   "cell_type": "code",
   "execution_count": 14,
   "metadata": {},
   "outputs": [
    {
     "name": "stdout",
     "output_type": "stream",
     "text": [
      "\n",
      "initial system energy\n",
      "273396033134.01532 kcal/mol\n",
      "\n",
      "after minimization\n",
      "-22264.42217989069 kcal/mol\n"
     ]
    }
   ],
   "source": [
    "positions_nm = simulation.context.getState(getPositions=True).getPositions()\n",
    "positions_nm[:len(nmr_positions)] = nmr_positions + delta\n",
    "simulation.context.setPositions(positions_nm)\n",
    "print_energy_and_optimize()"
   ]
  },
  {
   "cell_type": "code",
   "execution_count": 10,
   "metadata": {},
   "outputs": [
    {
     "name": "stdout",
     "output_type": "stream",
     "text": [
      "#\"Progress (%)\"\t\"Step\"\t\"Time (ps)\"\t\"Potential Energy (kJ/mole)\"\t\"Temperature (K)\"\t\"Speed (ns/day)\"\t\"Time Remaining\"\n",
      "100.0%\t10\t0.020000000000000004\t-92861.81115066266\t7.548226400489384\t0\t--\n"
     ]
    },
    {
     "name": "stderr",
     "output_type": "stream",
     "text": [
      "/home/yppatel/anaconda3/envs/myenv/lib/python3.8/site-packages/mdtraj/utils/validation.py:115: TypeCastPerformanceWarning: Casting xyz dtype=float64 to <class 'numpy.float32'> \n",
      "  warnings.warn(\"Casting %s dtype=%s to %s \" % (name, val.dtype, dtype),\n"
     ]
    }
   ],
   "source": [
    "# simulation\n",
    "reportInterval = 10\n",
    "nstep = 10\n",
    "simulation.reporters.append(app.StateDataReporter(sys.stdout, reportInterval, step=True, time=True, potentialEnergy=True, temperature=True, progress=True, remainingTime=True, speed=True, totalSteps=nstep, separator='\\t'))\n",
    "simulation.reporters.append(mdtraj.reporters.HDF5Reporter('run.h5', reportInterval, coordinates=True, time=True, cell=True, potentialEnergy=True, temperature=True))\n",
    "simulation.reporters.append(mdtraj.reporters.DCDReporter('run.dcd', reportInterval))\n",
    "simulation.reporters.append(app.pdbreporter.PDBReporter('output.pdb', reportInterval))\n",
    "simulation.step(nstep)\n",
    "\n",
    "# save checkpoint\n",
    "with open('run.chk', 'wb') as f:\n",
    "    f.write(simulation.context.createCheckpoint())\n",
    "del simulation # Make sure to close all files"
   ]
  },
  {
   "cell_type": "code",
   "execution_count": 15,
   "metadata": {},
   "outputs": [
    {
     "name": "stderr",
     "output_type": "stream",
     "text": [
      "[07:58:43] Molecule does not have explicit Hs. Consider calling AddHs()\n"
     ]
    },
    {
     "data": {
      "text/plain": [
       "<rdkit.rdBase._vecti at 0x7f3857df0c80>"
      ]
     },
     "execution_count": 15,
     "metadata": {},
     "output_type": "execute_result"
    }
   ],
   "source": [
    "pdb = \"/home/yppatel/misc/clean_idp_rl/disordered_mol_untrained/mol0.pdb\"\n",
    "mol = Chem.rdmolfiles.MolFromPDBFile(pdb, removeHs=False)\n",
    "AllChem.EmbedMultipleConfs(mol, numConfs=100, numThreads=-1)"
   ]
  },
  {
   "cell_type": "code",
   "execution_count": 20,
   "metadata": {},
   "outputs": [
    {
     "name": "stdout",
     "output_type": "stream",
     "text": [
      "\n",
      "initial system energy\n",
      "634053845.2963909 kcal/mol\n",
      "\n",
      "after minimization\n",
      "-22233.426123485337 kcal/mol\n",
      "\n",
      "initial system energy\n",
      "56451314816.6157 kcal/mol\n",
      "\n",
      "after minimization\n",
      "-22269.19482568419 kcal/mol\n",
      "\n",
      "initial system energy\n",
      "92018877.80117096 kcal/mol\n",
      "\n",
      "after minimization\n",
      "-22234.587541984383 kcal/mol\n",
      "\n",
      "initial system energy\n",
      "936986158.8719167 kcal/mol\n",
      "\n",
      "after minimization\n",
      "-22298.618672481512 kcal/mol\n",
      "\n",
      "initial system energy\n",
      "538031940.8986853 kcal/mol\n",
      "\n",
      "after minimization\n",
      "-22335.384476735817 kcal/mol\n",
      "\n",
      "initial system energy\n",
      "159779122.54304478 kcal/mol\n",
      "\n",
      "after minimization\n",
      "-22233.16471096144 kcal/mol\n",
      "\n",
      "initial system energy\n",
      "175229151237.26578 kcal/mol\n",
      "\n",
      "after minimization\n",
      "-22322.511777166026 kcal/mol\n",
      "\n",
      "initial system energy\n",
      "24103967295665.562 kcal/mol\n",
      "\n",
      "after minimization\n",
      "-22313.77686440312 kcal/mol\n",
      "\n",
      "initial system energy\n",
      "240749508.77631435 kcal/mol\n",
      "\n",
      "after minimization\n",
      "-22372.01957472817 kcal/mol\n",
      "\n",
      "initial system energy\n",
      "12580952.370960644 kcal/mol\n",
      "\n",
      "after minimization\n",
      "-22360.935683714782 kcal/mol\n",
      "\n",
      "initial system energy\n",
      "57392128.279182434 kcal/mol\n",
      "\n",
      "after minimization\n",
      "-22331.265362252067 kcal/mol\n",
      "\n",
      "initial system energy\n",
      "11055876.845148025 kcal/mol\n",
      "\n",
      "after minimization\n",
      "-22365.275131611532 kcal/mol\n",
      "\n",
      "initial system energy\n",
      "1135578783604.3784 kcal/mol\n",
      "\n",
      "after minimization\n",
      "-22320.566121095282 kcal/mol\n",
      "\n",
      "initial system energy\n",
      "610263344.3403679 kcal/mol\n",
      "\n",
      "after minimization\n",
      "-22256.019634479602 kcal/mol\n",
      "\n",
      "initial system energy\n",
      "948804378954.283 kcal/mol\n",
      "\n",
      "after minimization\n",
      "-22298.607469087634 kcal/mol\n",
      "\n",
      "initial system energy\n",
      "259922327.1319549 kcal/mol\n",
      "\n",
      "after minimization\n",
      "-22366.253561343845 kcal/mol\n",
      "\n",
      "initial system energy\n",
      "280159273149.3117 kcal/mol\n",
      "\n",
      "after minimization\n",
      "-22289.099522146906 kcal/mol\n",
      "\n",
      "initial system energy\n",
      "5.152376223720002e+25 kcal/mol\n",
      "\n",
      "after minimization\n",
      "-22375.320841458568 kcal/mol\n",
      "\n",
      "initial system energy\n",
      "6346825455.239029 kcal/mol\n",
      "\n",
      "after minimization\n",
      "-22384.925884479602 kcal/mol\n",
      "\n",
      "initial system energy\n",
      "9434145317.571726 kcal/mol\n",
      "\n",
      "after minimization\n",
      "-22339.723924632566 kcal/mol\n",
      "\n",
      "initial system energy\n",
      "67067300988.69983 kcal/mol\n",
      "\n",
      "after minimization\n",
      "-22343.48079604748 kcal/mol\n",
      "\n",
      "initial system energy\n",
      "224038013.5564291 kcal/mol\n",
      "\n",
      "after minimization\n",
      "-22390.363264976735 kcal/mol\n",
      "\n",
      "initial system energy\n",
      "4100768135619.675 kcal/mol\n",
      "\n",
      "after minimization\n",
      "-22343.53307855226 kcal/mol\n",
      "\n",
      "initial system energy\n",
      "77891948.54686886 kcal/mol\n",
      "\n",
      "after minimization\n",
      "-22351.905748246332 kcal/mol\n",
      "\n",
      "initial system energy\n",
      "1678250373.0210562 kcal/mol\n",
      "\n",
      "after minimization\n",
      "-22350.47918275876 kcal/mol\n",
      "\n",
      "initial system energy\n",
      "3711678197.112834 kcal/mol\n",
      "\n",
      "after minimization\n",
      "-22388.29437157329 kcal/mol\n",
      "\n",
      "initial system energy\n",
      "41648808.967518955 kcal/mol\n",
      "\n",
      "after minimization\n",
      "-22356.31241650637 kcal/mol\n",
      "\n",
      "initial system energy\n",
      "1711689.4646508931 kcal/mol\n",
      "\n",
      "after minimization\n",
      "-20325.831716219564 kcal/mol\n",
      "\n",
      "initial system energy\n",
      "7916327.131954908 kcal/mol\n"
     ]
    },
    {
     "ename": "KeyboardInterrupt",
     "evalue": "",
     "output_type": "error",
     "traceback": [
      "\u001b[0;31m---------------------------------------------------------------------------\u001b[0m",
      "\u001b[0;31mKeyboardInterrupt\u001b[0m                         Traceback (most recent call last)",
      "Cell \u001b[0;32mIn [20], line 6\u001b[0m\n\u001b[1;32m      4\u001b[0m positions_nm[:\u001b[39mlen\u001b[39m(pos_conf)] \u001b[39m=\u001b[39m pos_conf\n\u001b[1;32m      5\u001b[0m simulation\u001b[39m.\u001b[39mcontext\u001b[39m.\u001b[39msetPositions(positions_nm)\n\u001b[0;32m----> 6\u001b[0m print_energy_and_optimize()\n",
      "Cell \u001b[0;32mIn [6], line 5\u001b[0m, in \u001b[0;36mprint_energy_and_optimize\u001b[0;34m()\u001b[0m\n\u001b[1;32m      3\u001b[0m \u001b[39mprint\u001b[39m(\u001b[39m\"\u001b[39m\u001b[39m\\n\u001b[39;00m\u001b[39minitial system energy\u001b[39m\u001b[39m\"\u001b[39m)\n\u001b[1;32m      4\u001b[0m \u001b[39mprint\u001b[39m(simulation\u001b[39m.\u001b[39mcontext\u001b[39m.\u001b[39mgetState(getEnergy\u001b[39m=\u001b[39m\u001b[39mTrue\u001b[39;00m)\u001b[39m.\u001b[39mgetPotentialEnergy()\u001b[39m.\u001b[39min_units_of(unit\u001b[39m.\u001b[39mkilocalories_per_mole))\n\u001b[0;32m----> 5\u001b[0m simulation\u001b[39m.\u001b[39;49mminimizeEnergy(maxIterations\u001b[39m=\u001b[39;49m\u001b[39m1000\u001b[39;49m)\n\u001b[1;32m      6\u001b[0m \u001b[39mprint\u001b[39m(\u001b[39m\"\u001b[39m\u001b[39m\\n\u001b[39;00m\u001b[39mafter minimization\u001b[39m\u001b[39m\"\u001b[39m)\n\u001b[1;32m      7\u001b[0m \u001b[39mprint\u001b[39m(simulation\u001b[39m.\u001b[39mcontext\u001b[39m.\u001b[39mgetState(getEnergy\u001b[39m=\u001b[39m\u001b[39mTrue\u001b[39;00m)\u001b[39m.\u001b[39mgetPotentialEnergy()\u001b[39m.\u001b[39min_units_of(unit\u001b[39m.\u001b[39mkilocalories_per_mole))\n",
      "File \u001b[0;32m~/anaconda3/envs/myenv/lib/python3.8/site-packages/openmm/app/simulation.py:137\u001b[0m, in \u001b[0;36mSimulation.minimizeEnergy\u001b[0;34m(self, tolerance, maxIterations)\u001b[0m\n\u001b[1;32m    123\u001b[0m \u001b[39mdef\u001b[39;00m \u001b[39mminimizeEnergy\u001b[39m(\u001b[39mself\u001b[39m, tolerance\u001b[39m=\u001b[39m\u001b[39m10\u001b[39m\u001b[39m*\u001b[39munit\u001b[39m.\u001b[39mkilojoules_per_mole\u001b[39m/\u001b[39munit\u001b[39m.\u001b[39mnanometer, maxIterations\u001b[39m=\u001b[39m\u001b[39m0\u001b[39m):\n\u001b[1;32m    124\u001b[0m     \u001b[39m\"\"\"Perform a local energy minimization on the system.\u001b[39;00m\n\u001b[1;32m    125\u001b[0m \n\u001b[1;32m    126\u001b[0m \u001b[39m    Parameters\u001b[39;00m\n\u001b[0;32m   (...)\u001b[0m\n\u001b[1;32m    135\u001b[0m \u001b[39m        to how many iterations it takes.\u001b[39;00m\n\u001b[1;32m    136\u001b[0m \u001b[39m    \"\"\"\u001b[39;00m\n\u001b[0;32m--> 137\u001b[0m     mm\u001b[39m.\u001b[39;49mLocalEnergyMinimizer\u001b[39m.\u001b[39;49mminimize(\u001b[39mself\u001b[39;49m\u001b[39m.\u001b[39;49mcontext, tolerance, maxIterations)\n",
      "File \u001b[0;32m~/anaconda3/envs/myenv/lib/python3.8/site-packages/openmm/openmm.py:11150\u001b[0m, in \u001b[0;36mLocalEnergyMinimizer.minimize\u001b[0;34m(context, tolerance, maxIterations)\u001b[0m\n\u001b[1;32m  11135\u001b[0m \u001b[39m@staticmethod\u001b[39m\n\u001b[1;32m  11136\u001b[0m \u001b[39mdef\u001b[39;00m \u001b[39mminimize\u001b[39m(context, tolerance\u001b[39m=\u001b[39m\u001b[39m10\u001b[39m, maxIterations\u001b[39m=\u001b[39m\u001b[39m0\u001b[39m):\n\u001b[1;32m  11137\u001b[0m     \u001b[39mr\u001b[39m\u001b[39m\"\"\"\u001b[39;00m\n\u001b[1;32m  11138\u001b[0m \u001b[39m    minimize(context, tolerance=10, maxIterations=0)\u001b[39;00m\n\u001b[1;32m  11139\u001b[0m \u001b[39m    Search for a new set of particle positions that represent a local potential energy minimum. On exit, the Context will have been updated with the new positions.\u001b[39;00m\n\u001b[0;32m   (...)\u001b[0m\n\u001b[1;32m  11148\u001b[0m \u001b[39m        the maximum number of iterations to perform. If this is 0, minimation is continued until the results converge without regard to how many iterations it takes. The default value is 0.\u001b[39;00m\n\u001b[1;32m  11149\u001b[0m \u001b[39m    \"\"\"\u001b[39;00m\n\u001b[0;32m> 11150\u001b[0m     \u001b[39mreturn\u001b[39;00m _openmm\u001b[39m.\u001b[39;49mLocalEnergyMinimizer_minimize(context, tolerance, maxIterations)\n",
      "\u001b[0;31mKeyboardInterrupt\u001b[0m: "
     ]
    }
   ],
   "source": [
    "for i in range(mol.GetNumConformers()):\n",
    "    pos_conf = np_to_mm(mol.GetConformer(i).GetPositions()) + delta\n",
    "    positions_nm = simulation.context.getState(getPositions=True).getPositions()\n",
    "    positions_nm[:len(pos_conf)] = pos_conf\n",
    "    simulation.context.setPositions(positions_nm)\n",
    "    print_energy_and_optimize()"
   ]
  },
  {
   "cell_type": "code",
   "execution_count": 15,
   "metadata": {},
   "outputs": [],
   "source": [
    "system = Chem.rdmolfiles.MolFromPDBFile('init.pdb', removeHs=False)\n",
    "conf = system.GetConformer(0)\n",
    "positions_nm = simulation.context.getState(getPositions=True).getPositions()\n",
    "for i, pos in enumerate(positions_nm):\n",
    "    conf.SetAtomPosition(i, Point3D(pos.x, pos.y, pos.z))"
   ]
  },
  {
   "cell_type": "code",
   "execution_count": 17,
   "metadata": {},
   "outputs": [],
   "source": [
    "Chem.rdmolfiles.MolToPDBFile(system, \"system.pdb\")"
   ]
  },
  {
   "cell_type": "code",
   "execution_count": null,
   "metadata": {},
   "outputs": [],
   "source": []
  }
 ],
 "metadata": {
  "kernelspec": {
   "display_name": "Python 3.8.13 ('myenv')",
   "language": "python",
   "name": "python3"
  },
  "language_info": {
   "codemirror_mode": {
    "name": "ipython",
    "version": 3
   },
   "file_extension": ".py",
   "mimetype": "text/x-python",
   "name": "python",
   "nbconvert_exporter": "python",
   "pygments_lexer": "ipython3",
   "version": "3.8.13"
  },
  "vscode": {
   "interpreter": {
    "hash": "3b52329284bbe5c33be71a85e74fd7d09ee2cb6433042a6fedbaa24048c41d61"
   }
  }
 },
 "nbformat": 4,
 "nbformat_minor": 4
}
